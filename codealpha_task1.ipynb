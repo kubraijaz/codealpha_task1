{
  "nbformat": 4,
  "nbformat_minor": 0,
  "metadata": {
    "colab": {
      "provenance": []
    },
    "kernelspec": {
      "name": "python3",
      "display_name": "Python 3"
    },
    "language_info": {
      "name": "python"
    }
  },
  "cells": [
    {
      "cell_type": "code",
      "execution_count": 1,
      "metadata": {
        "colab": {
          "base_uri": "https://localhost:8080/"
        },
        "id": "B9TD4thEfh--",
        "outputId": "e7a225b0-b529-4b5b-9df8-83295503d714"
      },
      "outputs": [
        {
          "output_type": "stream",
          "name": "stdout",
          "text": [
            "Welcome to Hangman!\n",
            "\n",
            "Word: _ _ _ _ _ _ _\n",
            "Attempts left: 6\n",
            "Guess a letter: H\n",
            "Good guess!\n",
            "\n",
            "Word: h _ _ _ _ _ _\n",
            "Attempts left: 6\n",
            "Guess a letter: A\n",
            "Good guess!\n",
            "\n",
            "Word: h a _ _ _ a _\n",
            "Attempts left: 6\n",
            "Guess a letter: N\n",
            "Good guess!\n",
            "\n",
            "Word: h a n _ _ a n\n",
            "Attempts left: 6\n",
            "Guess a letter: G\n",
            "Good guess!\n",
            "\n",
            "Word: h a n g _ a n\n",
            "Attempts left: 6\n",
            "Guess a letter: M\n",
            "Good guess!\n",
            "\n",
            "Congratulations! You guessed the word: hangman\n"
          ]
        }
      ],
      "source": [
        "# Hangman Game\n",
        "import random\n",
        "\n",
        "def choose_word():\n",
        "    words = ['python', 'programming', 'hangman', 'developer', 'computer', 'engineer']\n",
        "    return random.choice(words)\n",
        "\n",
        "def display_word(word, guessed_letters):\n",
        "    return ' '.join(letter if letter in guessed_letters else '_' for letter in word)\n",
        "\n",
        "def hangman():\n",
        "    word = choose_word()\n",
        "\n",
        "    guessed_letters = set()\n",
        "    attempts = 6\n",
        "\n",
        "    print(\"Welcome to Hangman!\")\n",
        "\n",
        "    while attempts > 0:\n",
        "        print(\"\\nWord:\", display_word(word, guessed_letters))\n",
        "        print(f\"Attempts left: {attempts}\")\n",
        "        guess = input(\"Guess a letter: \").lower()\n",
        "\n",
        "        if len(guess) != 1 or not guess.isalpha():\n",
        "            print(\"Invalid input. Please enter a single letter.\")\n",
        "            continue\n",
        "\n",
        "        if guess in guessed_letters:\n",
        "            print(\"You already guessed that letter.\")\n",
        "            continue\n",
        "\n",
        "        guessed_letters.add(guess)\n",
        "\n",
        "        if guess in word:\n",
        "            print(\"Good guess!\")\n",
        "            if set(word).issubset(guessed_letters):\n",
        "                print(\"\\nCongratulations! You guessed the word:\", word)\n",
        "                break\n",
        "        else:\n",
        "            print(\"Incorrect guess!\")\n",
        "            attempts -= 1\n",
        "    else:\n",
        "        print(\"\\nGame Over! The word was:\", word)\n",
        "\n",
        "if __name__ == \"__main__\":\n",
        "    hangman()"
      ]
    },
    {
      "cell_type": "code",
      "source": [],
      "metadata": {
        "id": "AL4Gq6-gfjuN"
      },
      "execution_count": null,
      "outputs": []
    }
  ]
}